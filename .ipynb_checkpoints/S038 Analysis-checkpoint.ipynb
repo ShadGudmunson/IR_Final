{
 "cells": [
  {
   "cell_type": "markdown",
   "id": "0dcc23f0",
   "metadata": {},
   "source": [
    "# S038 Memory Analysis\n",
    "\n",
    "There are 2 compressed files we have access to, both containing a wealth of live response data: S038 and S039. This notebook will cover the contents contained within S038.\n",
    "\n",
    "## Where Things Are Initially\n",
    "\n",
    "We're in the position of junior incident responders. We have a collection of memory and disk images from a company who thinks they may have been compromised. Our task is to determine:\n",
    "* Who\n",
    "* What\n",
    "* Where\n",
    "* When\n",
    "* Why\n",
    "\n",
    "This is to be done (preferably) by examining the memory images and referencing the disk images when necessary.\n",
    "\n",
    "Our evidence is spread across 2 folders: `S038` and `S039`."
   ]
  },
  {
   "cell_type": "code",
   "execution_count": 2,
   "id": "97d0b28f",
   "metadata": {},
   "outputs": [
    {
     "name": "stdout",
     "output_type": "stream",
     "text": [
      "IR_Final\n",
      "S038\n",
      "S038.7z\n",
      "S039\n",
      "S039.7z\n"
     ]
    }
   ],
   "source": [
    "ls ../"
   ]
  },
  {
   "cell_type": "markdown",
   "id": "747636d8",
   "metadata": {},
   "source": [
    "Each folder contains 2 sub folders:\n",
    "* Memory: A colletion of `.vmem` and `.vmss` files for each system.\n",
    "* Triage: KAPE triage results."
   ]
  },
  {
   "cell_type": "code",
   "execution_count": 3,
   "id": "cedba8d4",
   "metadata": {},
   "outputs": [
    {
     "name": "stdout",
     "output_type": "stream",
     "text": [
      "Memory\n",
      "Triage\n"
     ]
    }
   ],
   "source": [
    "ls ../S038"
   ]
  },
  {
   "cell_type": "code",
   "execution_count": 4,
   "id": "fdb8b437",
   "metadata": {},
   "outputs": [
    {
     "name": "stdout",
     "output_type": "stream",
     "text": [
      "ACC-02-dc8be79d.vmem\n",
      "ACC-02-dc8be79d.vmss\n",
      "ACC-02_27_files.zip\n",
      "ACC-04-0f3b7e88.vmem\n",
      "ACC-04-0f3b7e88.vmss\n",
      "ACC-04_18_files.zip\n",
      "ACC-06-0f3c9744.vmem\n",
      "ACC-06-0f3c9744.vmss\n",
      "ACC-06_12_files.zip\n",
      "SAL-05-1c4475fd.vmem\n",
      "SAL-05-1c4475fd.vmss\n",
      "SAL-05_13_files.zip\n",
      "SAL-09-e9982959.vmem\n",
      "SAL-09-e9982959.vmss\n",
      "SAL-09_23_files.zip\n"
     ]
    }
   ],
   "source": [
    "ls ../S038/Memory"
   ]
  },
  {
   "cell_type": "code",
   "execution_count": 5,
   "id": "8fd5c41c",
   "metadata": {},
   "outputs": [
    {
     "name": "stdout",
     "output_type": "stream",
     "text": [
      "All Windows.KapeFiles.Targets\n",
      "HuntDetails\n",
      "clients\n",
      "triage.zip\n"
     ]
    }
   ],
   "source": [
    "ls ../S038/Triage"
   ]
  },
  {
   "cell_type": "markdown",
   "id": "f1f0e83c",
   "metadata": {},
   "source": [
    "As we aren't given what the initial infected machine may have been, a decent starting might be to examine one of the hosts, looking for anything suspicious. If nothing is found on one host, we can move on to the next. If something suspicious is found, we can look at other hosts to see if the same indicators are present there. As hosts are examined, we can create a list of actionable leads.\n",
    "\n",
    "Let's start with examining `ACC-02-dc8be78d.vmem` by running the volatility2 command `imageinfo`."
   ]
  },
  {
   "cell_type": "code",
   "execution_count": 7,
   "id": "b1d52e2b",
   "metadata": {},
   "outputs": [
    {
     "name": "stdout",
     "output_type": "stream",
     "text": [
      "Volatility Foundation Volatility Framework 2.6\n",
      "INFO    : volatility.debug    : Determining profile based on KDBG search...\n",
      "          Suggested Profile(s) : Win7SP1x64, Win7SP0x64, Win2008R2SP0x64, Win2008R2SP1x64_23418, Win2008R2SP1x64, Win7SP1x64_23418\n",
      "                     AS Layer1 : WindowsAMD64PagedMemory (Kernel AS)\n",
      "                     AS Layer2 : VMWareMetaAddressSpace (Unnamed AS)\n",
      "                     AS Layer3 : FileAddressSpace (/Users/matthewrobinson/Documents/CYBS514/final_project/S038/Memory/ACC-02-dc8be79d.vmem)\n",
      "                      PAE type : No PAE\n",
      "                           DTB : 0x187000L\n",
      "                          KDBG : 0xf80002c450a0L\n",
      "          Number of Processors : 2\n",
      "     Image Type (Service Pack) : 1\n",
      "                KPCR for CPU 0 : 0xfffff80002c46d00L\n",
      "                KPCR for CPU 1 : 0xfffff880009ef000L\n",
      "             KUSER_SHARED_DATA : 0xfffff78000000000L\n",
      "           Image date and time : 2021-06-16 13:08:41 UTC+0000\n",
      "     Image local date and time : 2021-06-16 08:08:41 -0500\n"
     ]
    }
   ],
   "source": [
    "../../volatility_2.6_mac64_standalone/volatility_2.6_mac64_standalone -f ../S038/Memory/ACC-02-dc8be79d.vmem imageinfo"
   ]
  },
  {
   "cell_type": "markdown",
   "id": "a600a795",
   "metadata": {},
   "source": [
    "From the results, we can see that the suggest profile is `Win7SP1x64`, indicating the image was taken from a Windows 7 machine. The image creation date and time is `2021-06-16 13:08:41 UTC+0000`.\n",
    "\n",
    "Let's check what processes were present."
   ]
  },
  {
   "cell_type": "code",
   "execution_count": 8,
   "id": "f8464ccd",
   "metadata": {},
   "outputs": [
    {
     "name": "stdout",
     "output_type": "stream",
     "text": [
      "Volatility Foundation Volatility Framework 2.6\n",
      "Offset(V)          Name                    PID   PPID   Thds     Hnds   Sess  Wow64 Start                          Exit                          \n",
      "------------------ -------------------- ------ ------ ------ -------- ------ ------ ------------------------------ ------------------------------\n",
      "0xfffffa8003c78b30 System                    4      0     90      521 ------      0 2021-06-15 13:20:03 UTC+0000                                 \n",
      "0xfffffa80053a0040 smss.exe                276      4      2       30 ------      0 2021-06-15 13:20:03 UTC+0000                                 \n",
      "0xfffffa8005c164f0 csrss.exe               356    348      9      731      0      0 2021-06-15 13:20:04 UTC+0000                                 \n",
      "0xfffffa8005e363b0 wininit.exe             408    348      3       77      0      0 2021-06-15 13:20:04 UTC+0000                                 \n",
      "0xfffffa8005e407f0 csrss.exe               424    400     12      447      1      0 2021-06-15 13:20:04 UTC+0000                                 \n",
      "0xfffffa800617f060 winlogon.exe            476    400      3      124      1      0 2021-06-15 13:20:04 UTC+0000                                 \n",
      "0xfffffa8006190630 services.exe            496    408      6      255      0      0 2021-06-15 13:20:04 UTC+0000                                 \n",
      "0xfffffa8005ee0730 lsass.exe               528    408      8      818      0      0 2021-06-15 13:20:04 UTC+0000                                 \n",
      "0xfffffa8005ebd950 lsm.exe                 536    408     10      200      0      0 2021-06-15 13:20:04 UTC+0000                                 \n",
      "0xfffffa8005ecdb30 svchost.exe             648    496     10      373      0      0 2021-06-15 13:20:04 UTC+0000                                 \n",
      "0xfffffa8005ecbb30 svchost.exe             724    496      8      365      0      0 2021-06-15 13:20:04 UTC+0000                                 \n",
      "0xfffffa8005fb2060 svchost.exe             800    496     20      604      0      0 2021-06-15 13:20:04 UTC+0000                                 \n",
      "0xfffffa8005fbab30 svchost.exe             876    496     17      446      0      0 2021-06-15 13:20:04 UTC+0000                                 \n",
      "0xfffffa800604bb30 svchost.exe             940    496     40     1253      0      0 2021-06-15 13:20:04 UTC+0000                                 \n",
      "0xfffffa80060eb8b0 svchost.exe             364    496     14      663      0      0 2021-06-15 13:20:05 UTC+0000                                 \n",
      "0xfffffa8006108320 svchost.exe             912    496     26      745      0      0 2021-06-15 13:20:05 UTC+0000                                 \n",
      "0xfffffa800620e060 spoolsv.exe            1092    496     12      278      0      0 2021-06-15 13:20:05 UTC+0000                                 \n",
      "0xfffffa80061e6b30 svchost.exe            1120    496     17      312      0      0 2021-06-15 13:20:05 UTC+0000                                 \n",
      "0xfffffa80061dcb30 osqueryd.exe           1280    496      4      225      0      0 2021-06-15 13:20:05 UTC+0000                                 \n",
      "0xfffffa800632e580 ssm.exe                1384    496      3       56      0      0 2021-06-15 13:20:05 UTC+0000                                 \n",
      "0xfffffa800635bb30 sysmon.exe             1428    496     11      315      0      0 2021-06-15 13:20:05 UTC+0000                                 \n",
      "0xfffffa800637bb30 python.exe             1536   1384      6      319      0      0 2021-06-15 13:20:05 UTC+0000                                 \n",
      "0xfffffa80062d0730 conhost.exe            1544    356      2       35      0      0 2021-06-15 13:20:05 UTC+0000                                 \n",
      "0xfffffa80066df230 vmtoolsd.exe           1576    496     10      320      0      0 2021-06-15 13:20:05 UTC+0000                                 \n",
      "0xfffffa80067a1060 unsecapp.exe           1808    648      3       73      0      0 2021-06-15 13:20:06 UTC+0000                                 \n",
      "0xfffffa8006864b30 WmiPrvSE.exe           2016    648     11      334      0      0 2021-06-15 13:20:06 UTC+0000                                 \n",
      "0xfffffa8006beab30 python.exe             1292   1536      4      188      0      0 2021-06-15 13:20:07 UTC+0000                                 \n",
      "0xfffffa8006d02060 svchost.exe            2096    496      5      102      0      0 2021-06-15 13:20:08 UTC+0000                                 \n",
      "0xfffffa8006e78060 dllhost.exe            2292    496     13      198      0      0 2021-06-15 13:20:09 UTC+0000                                 \n",
      "0xfffffa80062c0060 osqueryd.exe           2516   1280     14      329      0      0 2021-06-15 13:20:12 UTC+0000                                 \n",
      "0xfffffa80063682f0 conhost.exe            2556    356      2       32      0      0 2021-06-15 13:20:12 UTC+0000                                 \n",
      "0xfffffa8004eef720 msdtc.exe              2684    496     12      146      0      0 2021-06-15 13:20:13 UTC+0000                                 \n",
      "0xfffffa80068828e0 python.exe             1592   1536      0 --------      0      0 2021-06-15 13:20:18 UTC+0000   2021-06-15 13:20:20 UTC+0000  \n",
      "0xfffffa80061e0680 taskhost.exe           1564    496      8      170      1      0 2021-06-15 13:20:18 UTC+0000                                 \n",
      "0xfffffa80061635f0 dwm.exe                2628    876      3       82      1      0 2021-06-15 13:20:18 UTC+0000                                 \n",
      "0xfffffa80061c42f0 explorer.exe           2648   1956     25      989      1      0 2021-06-15 13:20:18 UTC+0000                                 \n",
      "0xfffffa800533eb30 vmtoolsd.exe           2812   2648      6      144      1      0 2021-06-15 13:20:20 UTC+0000                                 \n",
      "0xfffffa80066cea00 user.exe               2836   2648      0 --------      1      0 2021-06-15 13:20:20 UTC+0000   2021-06-16 01:16:12 UTC+0000  \n",
      "0xfffffa800699db30 jusched.exe            2160   2852      3      126      1      1 2021-06-15 13:20:21 UTC+0000                                 \n",
      "0xfffffa800695b780 svchost.exe            2264    496     12      326      0      0 2021-06-15 13:20:22 UTC+0000                                 \n",
      "0xfffffa8006268890 SearchIndexer.         2360    496     14      761      0      0 2021-06-15 13:20:26 UTC+0000                                 \n",
      "0xfffffa8006ef08d0 svchost.exe            3588    496      9      136      0      0 2021-06-15 13:22:07 UTC+0000                                 \n",
      "0xfffffa8005e53060 sppsvc.exe             3740    496      4      150      0      0 2021-06-15 13:22:08 UTC+0000                                 \n",
      "0xfffffa8006158060 Velociraptor.e         3776    496     16      167      0      0 2021-06-15 13:22:08 UTC+0000                                 \n",
      "0xfffffa80051b2610 winlogbeat.exe         3840    496     17      184      0      0 2021-06-15 13:22:09 UTC+0000                                 \n",
      "0xfffffa8005f2aad0 winlogbeat.exe         3936    496     19      200      0      0 2021-06-15 13:22:12 UTC+0000                                 \n",
      "0xfffffa800612f060 jucheck.exe             284   2160      6      344      1      1 2021-06-15 13:25:22 UTC+0000                                 \n",
      "0xfffffa8003fac620 OSPPSVC.EXE             612    496      3      131      0      0 2021-06-15 13:31:18 UTC+0000                                 \n",
      "0xfffffa8006b683b0 python.exe             1348   1536      0 --------      0      0 2021-06-15 14:20:18 UTC+0000   2021-06-15 14:20:21 UTC+0000  \n",
      "0xfffffa8003f7d960 python.exe             3436   1536      0 --------      0      0 2021-06-15 15:20:18 UTC+0000   2021-06-15 15:20:20 UTC+0000  \n",
      "0xfffffa8004b0a060 python.exe             4092   1536      0 --------      0      0 2021-06-15 16:20:18 UTC+0000   2021-06-15 16:20:20 UTC+0000  \n",
      "0xfffffa8004c5eb30 python.exe             5068   1536      0 --------      0      0 2021-06-15 16:44:50 UTC+0000   2021-06-15 16:44:56 UTC+0000  \n",
      "0xfffffa800419e650 python.exe             4112   1536      0 --------      0      0 2021-06-15 16:45:17 UTC+0000   2021-06-15 16:45:23 UTC+0000  \n",
      "0xfffffa800464ea10 iexplore.exe           5352   2648     11      555      1      1 2021-06-15 16:48:30 UTC+0000                                 \n"
     ]
    },
    {
     "name": "stdout",
     "output_type": "stream",
     "text": [
      "0xfffffa8004f9d060 iexplore.exe           5884   5352      0 --------      1      0 2021-06-15 16:48:30 UTC+0000   2021-06-15 17:33:15 UTC+0000  \n",
      "0xfffffa8004f92b30 HelpPane.exe           1796    648      7      262      1      0 2021-06-15 16:53:51 UTC+0000                                 \n",
      "0xfffffa8004124930 python.exe             5320   1536      0 --------      0      0 2021-06-15 17:20:18 UTC+0000   2021-06-15 17:20:21 UTC+0000  \n",
      "0xfffffa800426b1c0 python.exe             5372   1536      0 --------      0      0 2021-06-15 18:20:18 UTC+0000   2021-06-15 18:20:20 UTC+0000  \n",
      "0xfffffa8004c17060 calc.exe                628   2648      3       75      1      0 2021-06-15 18:54:15 UTC+0000                                 \n",
      "0xfffffa8004f6fa30 calc.exe               5668   2648      3       75      1      0 2021-06-15 19:15:33 UTC+0000                                 \n",
      "0xfffffa80046382e0 python.exe             5476   1536      0 --------      0      0 2021-06-15 19:20:18 UTC+0000   2021-06-15 19:20:20 UTC+0000  \n",
      "0xfffffa800436fa70 chrome.exe             5560   2648      0 --------      1      0 2021-06-15 19:41:05 UTC+0000   2021-06-15 20:02:06 UTC+0000  \n",
      "0xfffffa8004fce060 python.exe             5004   1536      0 --------      0      0 2021-06-15 20:20:18 UTC+0000   2021-06-15 20:20:20 UTC+0000  \n",
      "0xfffffa8004b06060 python.exe             5392   1536      0 --------      0      0 2021-06-15 20:28:49 UTC+0000   2021-06-15 20:28:56 UTC+0000  \n",
      "0xfffffa8004e5f960 python.exe             2540   1536      0 --------      0      0 2021-06-15 20:29:39 UTC+0000   2021-06-15 20:29:46 UTC+0000  \n",
      "0xfffffa8003f60590 python.exe             1600   1536      0 --------      0      0 2021-06-15 20:30:29 UTC+0000   2021-06-15 20:30:34 UTC+0000  \n",
      "0xfffffa80042737b0 calc.exe               5880   2648      3       75      1      0 2021-06-15 20:47:19 UTC+0000                                 \n",
      "0xfffffa80068b2060 calc.exe               1608   2648      3       75      1      0 2021-06-15 20:47:58 UTC+0000                                 \n",
      "0xfffffa800447db30 calc.exe               5608   2648      3       75      1      0 2021-06-15 20:48:45 UTC+0000                                 \n",
      "0xfffffa80040f17d0 iexplore.exe           1836   2648     10      404      1      1 2021-06-15 20:50:50 UTC+0000                                 \n",
      "0xfffffa80055a8060 iexplore.exe           2464   1836     11      506      1      1 2021-06-15 20:50:50 UTC+0000                                 \n",
      "0xfffffa80052d1b30 OUTLOOK.EXE            2988   2648     23     2365      1      1 2021-06-15 21:03:07 UTC+0000                                 \n",
      "0xfffffa8004648a80 WINWORD.EXE            5040   2648     11      508      1      1 2021-06-15 21:08:21 UTC+0000                                 \n",
      "0xfffffa8004b85b30 POWERPNT.EXE           3088   2648     10      526      1      1 2021-06-15 21:08:28 UTC+0000                                 \n",
      "0xfffffa80050dcb30 splwow64.exe           4752   3088      7       78      1      0 2021-06-15 21:08:28 UTC+0000                                 \n",
      "0xfffffa8005012890 EXCEL.EXE              4808   2648     11      550      1      1 2021-06-15 21:08:44 UTC+0000                                 \n",
      "0xfffffa8005065230 setup.exe              5280   5780      9      257      1      0 2021-06-15 21:08:49 UTC+0000                                 \n",
      "0xfffffa8004f8b060 conhost.exe            1692    424      2       51      1      0 2021-06-15 21:08:49 UTC+0000                                 \n",
      "0xfffffa8004913060 cmd.exe                5720   5604      1       22      1      0 2021-06-15 21:08:49 UTC+0000                                 \n",
      "0xfffffa8003f5fb30 conhost.exe            4696    424      2       51      1      0 2021-06-15 21:08:49 UTC+0000                                 \n",
      "0xfffffa8004353b30 rundll32.exe           3384   5720      8      176      1      0 2021-06-15 21:08:49 UTC+0000                                 \n",
      "0xfffffa80052d5410 rundll32.exe           5344   3384      0 --------      1      0 2021-06-15 21:09:32 UTC+0000   2021-06-15 21:09:40 UTC+0000  \n",
      "0xfffffa8004e60060 rundll32.exe           5416   3384      3       94      1      0 2021-06-15 21:11:09 UTC+0000                                 \n",
      "0xfffffa8004f7b060 rundll32.exe           2944   5416      0 --------      1      0 2021-06-15 21:11:31 UTC+0000   2021-06-15 21:11:33 UTC+0000  \n",
      "0xfffffa80051d7b30 python.exe             4204   1536      0 --------      0      0 2021-06-15 21:20:18 UTC+0000   2021-06-15 21:20:20 UTC+0000  \n",
      "0xfffffa80060ae060 python.exe             4024   1536      0 --------      0      0 2021-06-15 22:20:18 UTC+0000   2021-06-15 22:20:21 UTC+0000  \n",
      "0xfffffa80048d1800 python.exe             3644   1536      0 --------      0      0 2021-06-15 23:20:18 UTC+0000   2021-06-15 23:20:21 UTC+0000  \n",
      "0xfffffa8004fd2740 python.exe             1104   1536      0 --------      0      0 2021-06-16 00:20:18 UTC+0000   2021-06-16 00:20:21 UTC+0000  \n",
      "0xfffffa8004fa4340 python.exe             4236   1536      0 --------      0      0 2021-06-16 01:14:43 UTC+0000   2021-06-16 01:14:51 UTC+0000  \n",
      "0xfffffa8004c4f400 python.exe              860   1536      0 --------      0      0 2021-06-16 01:16:05 UTC+0000   2021-06-16 01:16:13 UTC+0000  \n",
      "0xfffffa8004f36b30 python.exe             2828   1536      0 --------      0      0 2021-06-16 01:17:00 UTC+0000   2021-06-16 01:17:09 UTC+0000  \n",
      "0xfffffa80040a1b30 python.exe             1264   1536      0 --------      0      0 2021-06-16 01:20:18 UTC+0000   2021-06-16 01:20:21 UTC+0000  \n",
      "0xfffffa800500e220 python.exe             5336   1536      0 --------      0      0 2021-06-16 02:20:18 UTC+0000   2021-06-16 02:20:21 UTC+0000  \n",
      "0xfffffa80042b0060 python.exe             3944   1536      0 --------      0      0 2021-06-16 03:20:18 UTC+0000   2021-06-16 03:20:21 UTC+0000  \n",
      "0xfffffa800425c980 python.exe             4456   1536      0 --------      0      0 2021-06-16 04:20:18 UTC+0000   2021-06-16 04:20:21 UTC+0000  \n",
      "0xfffffa8004ffe060 python.exe              344   1536      0 --------      0      0 2021-06-16 05:20:18 UTC+0000   2021-06-16 05:20:20 UTC+0000  \n",
      "0xfffffa8005192500 python.exe             5912   1536      0 --------      0      0 2021-06-16 06:20:18 UTC+0000   2021-06-16 06:20:19 UTC+0000  \n",
      "0xfffffa8004b67b30 python.exe             1240   1536      0 --------      0      0 2021-06-16 07:20:18 UTC+0000   2021-06-16 07:20:21 UTC+0000  \n",
      "0xfffffa800666e060 python.exe             2004   1536      0 --------      0      0 2021-06-16 08:20:18 UTC+0000   2021-06-16 08:20:21 UTC+0000  \n",
      "0xfffffa8006640460 python.exe             5268   1536      0 --------      0      0 2021-06-16 09:20:18 UTC+0000   2021-06-16 09:20:21 UTC+0000  \n",
      "0xfffffa800686a060 python.exe             4704   1536      0 --------      0      0 2021-06-16 10:20:18 UTC+0000   2021-06-16 10:20:21 UTC+0000  \n",
      "0xfffffa8004ffd720 python.exe             4552   1536      0 --------      0      0 2021-06-16 11:20:18 UTC+0000   2021-06-16 11:20:21 UTC+0000  \n",
      "0xfffffa80068272c0 python.exe             1704   1536      0 --------      0      0 2021-06-16 12:20:18 UTC+0000   2021-06-16 12:20:20 UTC+0000  \n"
     ]
    }
   ],
   "source": [
    "../../volatility_2.6_mac64_standalone/volatility_2.6_mac64_standalone --profile=Win7SP1x64 -f ../S038/Memory/ACC-02-dc8be79d.vmem pslist"
   ]
  },
  {
   "cell_type": "code",
   "execution_count": null,
   "id": "a91212e0",
   "metadata": {},
   "outputs": [],
   "source": []
  }
 ],
 "metadata": {
  "kernelspec": {
   "display_name": ".NET (PowerShell)",
   "language": "PowerShell",
   "name": ".net-powershell"
  },
  "language_info": {
   "file_extension": ".ps1",
   "mimetype": "text/x-powershell",
   "name": "PowerShell",
   "pygments_lexer": "powershell",
   "version": "7.0"
  }
 },
 "nbformat": 4,
 "nbformat_minor": 5
}
