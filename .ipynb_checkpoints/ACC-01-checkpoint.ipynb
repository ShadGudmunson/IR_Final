{
 "cells": [
  {
   "cell_type": "markdown",
   "id": "8faa5568",
   "metadata": {},
   "source": [
    "## Process Analysis\n",
    "Taking a look at processes first."
   ]
  },
  {
   "cell_type": "code",
   "execution_count": 1,
   "id": "b79d5204",
   "metadata": {},
   "outputs": [
    {
     "name": "stdout",
     "output_type": "stream",
     "text": [
      "Volatility 3 Framework 2.0.0\n",
      "\n",
      "PID\tPPID\tImageFileName\tOffset(V)\tThreads\tHandles\tSessionId\tWow64\tCreateTime\tExitTime\n",
      "\n",
      "4\t0\tSystem\t0xfa8003c78b30\t87\t543\tN/A\tFalse\t2021-06-23 21:14:35.000000 \tN/A\n",
      "* 240\t4\tsmss.exe\t0xfa8004e99b30\t2\t31\tN/A\tFalse\t2021-06-23 21:14:35.000000 \tN/A\n",
      "320\t312\tcsrss.exe\t0xfa8004f85b30\t9\t591\t0\tFalse\t2021-06-23 21:14:36.000000 \tN/A\n",
      "* 1368\t320\tconhost.exe\t0xfa8005fdc060\t2\t32\t0\tFalse\t2021-06-23 21:14:39.000000 \tN/A\n",
      "* 1540\t320\tconhost.exe\t0xfa8006b6a060\t2\t34\t0\tFalse\t2021-06-23 21:14:39.000000 \tN/A\n",
      "372\t312\twininit.exe\t0xfa8005a536c0\t3\t76\t0\tFalse\t2021-06-23 21:14:36.000000 \tN/A\n",
      "* 480\t372\tservices.exe\t0xfa8005b244b0\t7\t235\t0\tFalse\t2021-06-23 21:14:36.000000 \tN/A\n",
      "** 2436\t480\tmsdtc.exe\t0xfa8004efb800\t12\t146\t0\tFalse\t2021-06-23 21:14:45.000000 \tN/A\n",
      "** 1400\t480\tsysmon.exe\t0xfa8006b35b30\t11\t306\t0\tFalse\t2021-06-23 21:14:39.000000 \tN/A\n",
      "** 1036\t480\tspoolsv.exe\t0xfa8005f4fb30\t12\t277\t0\tFalse\t2021-06-23 21:14:38.000000 \tN/A\n",
      "** 3724\t480\tsvchost.exe\t0xfa8005844060\t11\t141\t0\tFalse\t2021-06-23 21:16:40.000000 \tN/A\n",
      "** 1444\t480\tVGAuthService.\t0xfa8006b81620\t4\t98\t0\tFalse\t2021-06-23 21:14:39.000000 \tN/A\n",
      "** 1072\t480\tsvchost.exe\t0xfa8005058620\t18\t308\t0\tFalse\t2021-06-23 21:14:38.000000 \tN/A\n",
      "** 692\t480\tsvchost.exe\t0xfa8005d7bb30\t9\t344\t0\tFalse\t2021-06-23 21:14:37.000000 \tN/A\n",
      "** 4020\t480\tVelociraptor.e\t0xfa8005052060\t16\t166\t0\tFalse\t2021-06-23 21:16:42.000000 \tN/A\n",
      "** 828\t480\tsvchost.exe\t0xfa8005c74060\t16\t420\t0\tFalse\t2021-06-23 21:14:37.000000 \tN/A\n",
      "*** 1980\t828\tdwm.exe\t0xfa8005bdd8e0\t3\t73\t1\tFalse\t2021-06-23 21:14:56.000000 \tN/A\n",
      "** 960\t480\tsvchost.exe\t0xfa8005f07540\t14\t627\t0\tFalse\t2021-06-23 21:14:38.000000 \tN/A\n",
      "** 1348\t480\tssm.exe\t0xfa800568cb30\t3\t56\t0\tFalse\t2021-06-23 21:14:39.000000 \tN/A\n",
      "*** 1532\t1348\tpython.exe\t0xfa8006b76060\t6\t286\t0\tFalse\t2021-06-23 21:14:39.000000 \tN/A\n",
      "**** 1996\t1532\tpython.exe\t0xfa8006dbd060\t4\t190\t0\tFalse\t2021-06-23 21:14:40.000000 \tN/A\n",
      "**** 3052\t1532\tpython.exe\t0xfa8004feb060\t0\t-\t0\tFalse\t2021-06-23 21:14:51.000000 \t2021-06-23 21:14:53.000000 \n",
      "** 1480\t480\tvmtoolsd.exe\t0xfa8006b86620\t8\t315\t0\tFalse\t2021-06-23 21:14:39.000000 \tN/A\n",
      "** 2124\t480\tsvchost.exe\t0xfa8005803060\t5\t102\t0\tFalse\t2021-06-23 21:14:42.000000 \tN/A\n",
      "** 3024\t480\ttaskhost.exe\t0xfa8004ed0060\t9\t156\t1\tFalse\t2021-06-23 21:14:51.000000 \tN/A\n",
      "** 468\t480\tsvchost.exe\t0xfa8005f4b9e0\t28\t803\t0\tFalse\t2021-06-23 21:14:38.000000 \tN/A\n",
      "** 3960\t480\tsppsvc.exe\t0xfa80057f1b30\t4\t151\t0\tFalse\t2021-06-23 21:16:41.000000 \tN/A\n",
      "** 1880\t480\tOSPPSVC.EXE\t0xfa8004189060\t3\t128\t0\tFalse\t2021-06-23 21:22:48.000000 \tN/A\n",
      "** 1244\t480\tosqueryd.exe\t0xfa8006056720\t4\t225\t0\tFalse\t2021-06-23 21:14:39.000000 \tN/A\n",
      "*** 1360\t1244\tosqueryd.exe\t0xfa8005fdcb30\t18\t339\t0\tFalse\t2021-06-23 21:14:39.000000 \tN/A\n",
      "** 612\t480\tsvchost.exe\t0xfa8005cb78b0\t11\t370\t0\tFalse\t2021-06-23 21:14:37.000000 \tN/A\n",
      "*** 1776\t612\tunsecapp.exe\t0xfa8005ce3060\t4\t73\t0\tFalse\t2021-06-23 21:14:39.000000 \tN/A\n",
      "*** 1788\t612\tWmiPrvSE.exe\t0xfa8006c62b30\t11\t314\t0\tFalse\t2021-06-23 21:14:39.000000 \tN/A\n",
      "** 740\t480\tsvchost.exe\t0xfa8005dc45e0\t20\t554\t0\tFalse\t2021-06-23 21:14:37.000000 \tN/A\n",
      "** 2664\t480\tSearchIndexer.\t0xfa8006e1f2c0\t14\t740\t0\tFalse\t2021-06-23 21:15:02.000000 \tN/A\n",
      "*** 3552\t2664\tSearchFilterHo\t0xfa800429f3b0\t5\t86\t0\tFalse\t2021-06-23 22:08:26.000000 \tN/A\n",
      "*** 3148\t2664\tSearchProtocol\t0xfa80044a3b30\t7\t256\t1\tFalse\t2021-06-23 22:08:26.000000 \tN/A\n",
      "** 2792\t480\twinlogbeat.exe\t0xfa8005e1a770\t17\t187\t0\tFalse\t2021-06-23 21:16:46.000000 \tN/A\n",
      "** 876\t480\tsvchost.exe\t0xfa8005e60b30\t37\t1177\t0\tFalse\t2021-06-23 21:14:38.000000 \tN/A\n",
      "** 4080\t480\twinlogbeat.exe\t0xfa8006bf0620\t18\t188\t0\tFalse\t2021-06-23 21:16:43.000000 \tN/A\n",
      "** 2164\t480\tdllhost.exe\t0xfa8006ee8b30\t13\t194\t0\tFalse\t2021-06-23 21:14:42.000000 \tN/A\n",
      "** 2680\t480\tsvchost.exe\t0xfa8005b74060\t13\t319\t0\tFalse\t2021-06-23 21:14:55.000000 \tN/A\n",
      "* 488\t372\tlsass.exe\t0xfa8005b43300\t8\t808\t0\tFalse\t2021-06-23 21:14:37.000000 \tN/A\n",
      "* 496\t372\tlsm.exe\t0xfa8005b468b0\t10\t198\t0\tFalse\t2021-06-23 21:14:37.000000 \tN/A\n",
      "388\t364\tcsrss.exe\t0xfa8005a4e380\t10\t350\t1\tFalse\t2021-06-23 21:14:36.000000 \tN/A\n",
      "* 1852\t388\tconhost.exe\t0xfa8005cf5060\t2\t52\t1\tFalse\t2021-06-23 21:14:56.000000 \tN/A\n",
      "440\t364\twinlogon.exe\t0xfa8005abeb30\t3\t122\t1\tFalse\t2021-06-23 21:14:36.000000 \tN/A\n",
      "2812\t2012\texplorer.exe\t0xfa8005b75620\t19\t716\t1\tFalse\t2021-06-23 21:14:56.000000 \tN/A\n",
      "* 3040\t2812\tsvchost.exe\t0xfa8005fc2b30\t7\t301\t1\tFalse\t2021-06-23 21:14:56.000000 \tN/A\n",
      "* 3836\t2812\tWINWORD.EXE\t0xfa8004028b30\t10\t419\t1\tTrue\t2021-06-23 21:22:47.000000 \tN/A\n",
      "** 3768\t3836\tsplwow64.exe\t0xfa8005f7d890\t6\t70\t1\tFalse\t2021-06-23 21:22:57.000000 \tN/A\n",
      "* 1200\t2812\tvmtoolsd.exe\t0xfa8005ef2940\t7\t146\t1\tFalse\t2021-06-23 21:14:56.000000 \tN/A\n",
      "* 2960\t2812\tuser.exe\t0xfa8005cf8b30\t6\t367\t1\tTrue\t2021-06-23 21:14:56.000000 \tN/A\n",
      "* 2172\t2812\tOUTLOOK.EXE\t0xfa80041a6060\t21\t2175\t1\tTrue\t2021-06-23 21:56:39.000000 \tN/A\n",
      "* 892\t2812\tiexplore.exe\t0xfa8005c166d0\t20\t648\t1\tTrue\t2021-06-23 21:25:26.000000 \tN/A\n",
      "** 1320\t892\tiexplore.exe\t0xfa800418e950\t31\t679\t1\tTrue\t2021-06-23 21:25:27.000000 \tN/A\n",
      "** 2104\t892\tiexplore.exe\t0xfa80042101c0\t12\t565\t1\tTrue\t2021-06-23 21:35:44.000000 \tN/A\n",
      "2428\t2984\tjusched.exe\t0xfa8005a54060\t3\t126\t1\tTrue\t2021-06-23 21:14:57.000000 \tN/A\n",
      "* 3772\t2428\tjucheck.exe\t0xfa8005a6b190\t6\t342\t1\tTrue\t2021-06-23 21:19:58.000000 \tN/A\n",
      "\n",
      "Progress:    0.00\t\tScanning VmwareLayer using PageMapScanner\n",
      "\n",
      "Progress:    0.00\t\tScanning VmwareLayer using PageMapScanner\n",
      "\n",
      "Progress:   23.33\t\tScanning VmwareLayer using PageMapScanner\n",
      "\n",
      "Progress:    0.00\t\tScanning VmwareLayer using PageMapScanner\n",
      "\n",
      "Progress:  100.00\t\tStacking attempts finished               \n",
      "\n",
      "Progress:    0.00\t\tScanning memory_layer using BytesScanner \n",
      "\n",
      "Progress:    0.31\t\tScanning memory_layer using BytesScanner \n",
      "\n",
      "Progress:    0.63\t\tScanning memory_layer using BytesScanner \n",
      "\n",
      "Progress:    0.00\t\tScanning layer_name using PdbSignatureScanner\n",
      "\n",
      "Progress:    0.00\t\tScanning layer_name using PdbSignatureScanner\n",
      "\n",
      "Progress:  100.00\t\tPDB scanning finished                        \n"
     ]
    }
   ],
   "source": [
    "python3 ../../volatility3/vol.py -f ../S039/Memory/ACC-01-dc8b5b3e.vmem windows.pstree.PsTree"
   ]
  },
  {
   "cell_type": "code",
   "execution_count": null,
   "id": "345d39e5",
   "metadata": {},
   "outputs": [],
   "source": []
  }
 ],
 "metadata": {
  "kernelspec": {
   "display_name": ".NET (PowerShell)",
   "language": "PowerShell",
   "name": ".net-powershell"
  },
  "language_info": {
   "file_extension": ".ps1",
   "mimetype": "text/x-powershell",
   "name": "PowerShell",
   "pygments_lexer": "powershell",
   "version": "7.0"
  }
 },
 "nbformat": 4,
 "nbformat_minor": 5
}
