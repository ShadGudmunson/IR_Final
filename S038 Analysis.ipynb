{
 "cells": [
  {
   "cell_type": "markdown",
   "id": "0dcc23f0",
   "metadata": {},
   "source": [
    "# Memory Analysis\n",
    "\n",
    "There are 2 compressed files we have access to, both containinga wealth of live response data: S038 and S039. This notebook will cover the contents contained within S038."
   ]
  },
  {
   "cell_type": "code",
   "execution_count": null,
   "id": "cedba8d4",
   "metadata": {},
   "outputs": [],
   "source": []
  }
 ],
 "metadata": {
  "kernelspec": {
   "display_name": ".NET (PowerShell)",
   "language": "PowerShell",
   "name": ".net-powershell"
  },
  "language_info": {
   "file_extension": ".ps1",
   "mimetype": "text/x-powershell",
   "name": "PowerShell",
   "pygments_lexer": "powershell",
   "version": "7.0"
  }
 },
 "nbformat": 4,
 "nbformat_minor": 5
}
